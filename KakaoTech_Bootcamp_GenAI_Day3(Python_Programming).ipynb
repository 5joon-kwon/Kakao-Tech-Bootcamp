{
  "nbformat": 4,
  "nbformat_minor": 0,
  "metadata": {
    "colab": {
      "provenance": []
    },
    "kernelspec": {
      "name": "python3",
      "display_name": "Python 3"
    },
    "language_info": {
      "name": "python"
    }
  },
  "cells": [
    {
      "cell_type": "markdown",
      "source": [
        "파이썬 기본 문법 복습\n",
        "\n",
        "- 변수와 자료형: 파이썬은 동적 타이핑 언어로, 변수 선언 시 자료형을 명시하지 않아도 됩니다.\n",
        "- 기본 연산 및 조건문: 수학적 연산자와 논리 연산자를 사용하여 조건문을 작성할 수 있습니다.\n",
        "- 반복문: for와 while을 사용하여 반복 작업을 수행할 수 있습니다."
      ],
      "metadata": {
        "id": "4pEkwxlrl_4v"
      }
    },
    {
      "cell_type": "code",
      "execution_count": 1,
      "metadata": {
        "id": "vYQpkLEWl0Zo"
      },
      "outputs": [],
      "source": [
        "# 변수 -> 데이터를 저장하는 메모리 공간에 이름을 붙인 것\n",
        "x = 10  # 정수형 변수\n",
        "y = 3.14  # 실수형 변수\n",
        "name = \"Alice\"  # 문자열 변수"
      ]
    },
    {
      "cell_type": "code",
      "source": [
        "print(type(x))\n",
        "print(type(y))\n",
        "print(type(name))"
      ],
      "metadata": {
        "colab": {
          "base_uri": "https://localhost:8080/"
        },
        "id": "zve2YfkLvVwY",
        "outputId": "d7941107-7604-4fd3-c7f1-48619c5c5d4c"
      },
      "execution_count": 2,
      "outputs": [
        {
          "output_type": "stream",
          "name": "stdout",
          "text": [
            "<class 'int'>\n",
            "<class 'float'>\n",
            "<class 'str'>\n"
          ]
        }
      ]
    },
    {
      "cell_type": "code",
      "source": [
        "# 자료형\n",
        "a = 5  # int\n",
        "b = 3.2  # float\n",
        "c = \"Hello\"  # str\n",
        "d = True  # bool"
      ],
      "metadata": {
        "id": "x8pHvD0FmWEk"
      },
      "execution_count": 3,
      "outputs": []
    },
    {
      "cell_type": "code",
      "source": [
        "print(type(a))\n",
        "print(type(b))\n",
        "print(type(c))\n",
        "print(type(d))"
      ],
      "metadata": {
        "colab": {
          "base_uri": "https://localhost:8080/"
        },
        "id": "yO76t6-WvbE5",
        "outputId": "3d952b29-3872-46b2-9b57-944b4ab54b44"
      },
      "execution_count": 4,
      "outputs": [
        {
          "output_type": "stream",
          "name": "stdout",
          "text": [
            "<class 'int'>\n",
            "<class 'float'>\n",
            "<class 'str'>\n",
            "<class 'bool'>\n"
          ]
        }
      ]
    },
    {
      "cell_type": "code",
      "source": [
        "# 자료형 변환\n",
        "num_str = \"123\"\n",
        "print(type(num_str))\n",
        "num = int(num_str)  # 문자열을 정수로 변환\n",
        "print(type(num))\n",
        "print(num_str)\n",
        "print(num)"
      ],
      "metadata": {
        "colab": {
          "base_uri": "https://localhost:8080/"
        },
        "id": "vloUnXdwmYfQ",
        "outputId": "98eb3e7d-8798-45e1-d8b8-830689b810b1"
      },
      "execution_count": 5,
      "outputs": [
        {
          "output_type": "stream",
          "name": "stdout",
          "text": [
            "<class 'str'>\n",
            "<class 'int'>\n",
            "123\n",
            "123\n"
          ]
        }
      ]
    },
    {
      "cell_type": "code",
      "source": [
        "# 기본 연산\n",
        "a = 10\n",
        "b = 3\n",
        "print(a + b)  # 덧셈\n",
        "print(a > b)  # 비교 연산\n",
        "print(a > 5 and b < 5)  # 논리 연산"
      ],
      "metadata": {
        "colab": {
          "base_uri": "https://localhost:8080/"
        },
        "id": "iwZHveCBmglD",
        "outputId": "0d3caa1f-2a75-43ea-d905-78c313db4938"
      },
      "execution_count": 6,
      "outputs": [
        {
          "output_type": "stream",
          "name": "stdout",
          "text": [
            "13\n",
            "True\n",
            "True\n"
          ]
        }
      ]
    },
    {
      "cell_type": "code",
      "source": [
        "# 조건문\n",
        "age = 20\n",
        "if age < 18:\n",
        "    print(\"미성년자\")\n",
        "elif age == 18:\n",
        "    print(\"갓 성인\")\n",
        "else:\n",
        "    print(\"성인\")"
      ],
      "metadata": {
        "colab": {
          "base_uri": "https://localhost:8080/"
        },
        "id": "NDKg_M1zmoxW",
        "outputId": "668b62a8-2b44-4ab4-a6b2-810c27fd4430"
      },
      "execution_count": 7,
      "outputs": [
        {
          "output_type": "stream",
          "name": "stdout",
          "text": [
            "성인\n"
          ]
        }
      ]
    },
    {
      "cell_type": "code",
      "source": [
        "# for 문 -> 리스트, 튜플 등 시퀀스 자료형의 요소를 반복\n",
        "fruits = [\"apple\", \"banana\", \"cherry\"]\n",
        "for fruit in fruits:\n",
        "    print(fruit)"
      ],
      "metadata": {
        "colab": {
          "base_uri": "https://localhost:8080/"
        },
        "id": "Snk93vmImsbh",
        "outputId": "05043050-71d2-41e2-ef90-9e805f3f5af6"
      },
      "execution_count": 8,
      "outputs": [
        {
          "output_type": "stream",
          "name": "stdout",
          "text": [
            "apple\n",
            "banana\n",
            "cherry\n"
          ]
        }
      ]
    },
    {
      "cell_type": "code",
      "source": [
        "# for 문과 range() 함수 -> 정해진 횟수만큼 반복\n",
        "for i in range(5):\n",
        "    print(i)"
      ],
      "metadata": {
        "colab": {
          "base_uri": "https://localhost:8080/"
        },
        "id": "bDR9e_Inmvcn",
        "outputId": "e2fc1e6c-3ed7-4cee-e43c-169b48ed0a88"
      },
      "execution_count": 9,
      "outputs": [
        {
          "output_type": "stream",
          "name": "stdout",
          "text": [
            "0\n",
            "1\n",
            "2\n",
            "3\n",
            "4\n"
          ]
        }
      ]
    },
    {
      "cell_type": "code",
      "source": [
        "# while 문 -> 조건이 참인 동안 반복\n",
        "count = 0\n",
        "while count < 5:\n",
        "    print(count)\n",
        "    count += 1"
      ],
      "metadata": {
        "colab": {
          "base_uri": "https://localhost:8080/"
        },
        "id": "3WEqpjBUm1GU",
        "outputId": "64b36d8a-0799-4540-fed3-f1ef041b94dd"
      },
      "execution_count": 10,
      "outputs": [
        {
          "output_type": "stream",
          "name": "stdout",
          "text": [
            "0\n",
            "1\n",
            "2\n",
            "3\n",
            "4\n"
          ]
        }
      ]
    },
    {
      "cell_type": "code",
      "source": [
        "# break -> 반복문을 즉시 종료, continue -> 현재 반복을 건너뛰고 다음 반복으로 이동\n",
        "for i in range(10):\n",
        "    if i == 5:\n",
        "        break  # 5에서 반복문 종료\n",
        "    print(i)\n",
        "print(\"*\"*10)\n",
        "for i in range(10):\n",
        "    if i % 2 == 0:\n",
        "        continue  # 짝수 건너뛰기\n",
        "    print(i)"
      ],
      "metadata": {
        "colab": {
          "base_uri": "https://localhost:8080/"
        },
        "id": "4u5f7AY3m4dZ",
        "outputId": "0ce69e26-e8ce-4983-a878-a6aabcf92b27"
      },
      "execution_count": 11,
      "outputs": [
        {
          "output_type": "stream",
          "name": "stdout",
          "text": [
            "0\n",
            "1\n",
            "2\n",
            "3\n",
            "4\n",
            "**********\n",
            "1\n",
            "3\n",
            "5\n",
            "7\n",
            "9\n"
          ]
        }
      ]
    },
    {
      "cell_type": "markdown",
      "source": [
        "파이썬 프로그래밍 함수"
      ],
      "metadata": {
        "id": "_y-ujsy2ncVr"
      }
    },
    {
      "cell_type": "code",
      "source": [
        "# 함수\n",
        "\"\"\"\n",
        "def 함수이름(매개변수):\n",
        "    코드 블록\n",
        "    return 반환값\n",
        "\"\"\"\n",
        "def greet(name):\n",
        "    return f\"Hello, {name}!\""
      ],
      "metadata": {
        "id": "oJlV7bBJngpO"
      },
      "execution_count": 12,
      "outputs": []
    },
    {
      "cell_type": "code",
      "source": [
        "result = greet(\"Bob\")\n",
        "print(result)"
      ],
      "metadata": {
        "colab": {
          "base_uri": "https://localhost:8080/"
        },
        "id": "ZdDLM-Irng3v",
        "outputId": "72fcc8ac-0792-4187-d187-3ae6c292ff35"
      },
      "execution_count": 13,
      "outputs": [
        {
          "output_type": "stream",
          "name": "stdout",
          "text": [
            "Hello, Bob!\n"
          ]
        }
      ]
    },
    {
      "cell_type": "code",
      "source": [
        "# lambda 함수\n",
        "# lambda 매개변수: 반환값\n",
        "square = lambda x: x ** 2\n",
        "print(square(5))"
      ],
      "metadata": {
        "colab": {
          "base_uri": "https://localhost:8080/"
        },
        "id": "0oGfvBfeng1h",
        "outputId": "98469039-01d1-4d98-f886-e33b345edb8a"
      },
      "execution_count": 14,
      "outputs": [
        {
          "output_type": "stream",
          "name": "stdout",
          "text": [
            "25\n"
          ]
        }
      ]
    },
    {
      "cell_type": "code",
      "source": [
        "# map 함수의 인자로 사용\n",
        "numbers = [1, 2, 3, 4, 5]\n",
        "squares = list(map(lambda x: x ** 2, numbers))\n",
        "print(squares)"
      ],
      "metadata": {
        "colab": {
          "base_uri": "https://localhost:8080/"
        },
        "id": "l31Ip_crngt6",
        "outputId": "4fdf763c-a446-49e9-f927-c03c297a45a4"
      },
      "execution_count": 16,
      "outputs": [
        {
          "output_type": "stream",
          "name": "stdout",
          "text": [
            "[1, 4, 9, 16, 25]\n"
          ]
        }
      ]
    },
    {
      "cell_type": "code",
      "source": [
        "# 가변 인자 (*args)\n",
        "\"\"\"\n",
        "def 함수이름(*args):\n",
        "    코드 블록\n",
        "\"\"\"\n",
        "def add(*args):\n",
        "    return sum(args)\n",
        "\n",
        "print(add(1, 2, 3, 4))"
      ],
      "metadata": {
        "colab": {
          "base_uri": "https://localhost:8080/"
        },
        "id": "EvTCcEkpn7dE",
        "outputId": "0831b1af-aa4c-4c10-aa01-30ce33a61055"
      },
      "execution_count": 17,
      "outputs": [
        {
          "output_type": "stream",
          "name": "stdout",
          "text": [
            "10\n"
          ]
        }
      ]
    },
    {
      "cell_type": "code",
      "source": [
        "# 키워드 가변 인자 (**kwargs)\n",
        "\"\"\"\n",
        "def 함수이름(**kwargs):\n",
        "    코드 블록\n",
        "\"\"\"\n",
        "def introduce(**kwargs):\n",
        "    for key, value in kwargs.items():\n",
        "        print(f\"{key}: {value}\")\n",
        "\n",
        "introduce(name=\"Alice\", age=30, city=\"Seoul\")"
      ],
      "metadata": {
        "colab": {
          "base_uri": "https://localhost:8080/"
        },
        "id": "G_HrNFD9n7a5",
        "outputId": "7bddad34-2a3c-4f46-baf8-f7188b780f78"
      },
      "execution_count": 18,
      "outputs": [
        {
          "output_type": "stream",
          "name": "stdout",
          "text": [
            "name: Alice\n",
            "age: 30\n",
            "city: Seoul\n"
          ]
        }
      ]
    },
    {
      "cell_type": "code",
      "source": [
        "# map 함수, 모든 요소에 함수를 적용하여 새로운 리스트 반환\n",
        "numbers = [1, 2, 3, 4]\n",
        "squares = list(map(lambda x: x ** 2, numbers))\n",
        "print(squares)\n",
        "\n",
        "# filter 함수, 조건에 맞는 요소만 걸러내어 새로운 리스트 반환\n",
        "numbers = [1, 2, 3, 4, 5]\n",
        "evens = list(filter(lambda x: x % 2 == 0, numbers))\n",
        "print(evens)\n",
        "\n",
        "# reduce 함수, 모든 요소를 누적하여 단일 값을 반환\n",
        "from functools import reduce\n",
        "numbers = [1, 2, 3, 4]\n",
        "product = reduce(lambda x, y: x * y, numbers) # 1*2*3*4\n",
        "print(product)"
      ],
      "metadata": {
        "colab": {
          "base_uri": "https://localhost:8080/"
        },
        "id": "v0-eX8YDn7Ye",
        "outputId": "c8a6fdd2-fb0b-41e7-e03f-2b053a862d4a"
      },
      "execution_count": 19,
      "outputs": [
        {
          "output_type": "stream",
          "name": "stdout",
          "text": [
            "[1, 4, 9, 16]\n",
            "[2, 4]\n",
            "24\n"
          ]
        }
      ]
    },
    {
      "cell_type": "markdown",
      "source": [
        "클래스와 객체지향 프로그래밍"
      ],
      "metadata": {
        "id": "BROoye2ZsCUm"
      }
    },
    {
      "cell_type": "code",
      "source": [
        "# 클래스 -> 객체를 정의하는 데 사용되는 청사진\n",
        "\"\"\"\n",
        "class 클래스이름:\n",
        "    def __init__(self, 매개변수):\n",
        "        self.속성 = 매개변수\n",
        "\n",
        "    def 메서드이름(self, 매개변수):\n",
        "        코드 블록\n",
        "\"\"\"\n",
        "class Dog:\n",
        "    def __init__(self, name, age):\n",
        "        self.name = name\n",
        "        self.age = age\n",
        "\n",
        "    def bark(self):\n",
        "        return \"Woof!\"\n",
        "\n",
        "# 인스턴스 생성\n",
        "my_dog = Dog(\"Buddy\", 3)\n",
        "print(my_dog.name)\n",
        "print(my_dog.bark())"
      ],
      "metadata": {
        "colab": {
          "base_uri": "https://localhost:8080/"
        },
        "id": "G0ZUvI0an7UR",
        "outputId": "c677f326-1089-4feb-afd6-34033c1736b6"
      },
      "execution_count": 21,
      "outputs": [
        {
          "output_type": "stream",
          "name": "stdout",
          "text": [
            "Buddy\n",
            "Woof!\n"
          ]
        }
      ]
    },
    {
      "cell_type": "code",
      "source": [
        "# 상속 -> 기존 클래스(부모 클래스)를 기반으로 새로운 클래스(자식 클래스)를 정의하는 것\n",
        "\"\"\"\n",
        "class 부모클래스:\n",
        "    # 부모 클래스의 속성과 메서드 정의\n",
        "\n",
        "class 자식클래스(부모클래스):\n",
        "    # 자식 클래스의 속성과 메서드 정의\n",
        "\"\"\"\n",
        "class Animal:\n",
        "    def __init__(self, name):\n",
        "        self.name = name\n",
        "\n",
        "    def speak(self):\n",
        "        raise NotImplementedError(\"Subclass must implement abstract method\")\n",
        "\n",
        "class Dog(Animal): # Animal 상속\n",
        "    def speak(self):\n",
        "        return \"Woof!\"\n",
        "\n",
        "class Cat(Animal): # Animal 상속\n",
        "    def speak(self):\n",
        "        return \"Meow!\"\n"
      ],
      "metadata": {
        "id": "bAsThZ7Gngrs"
      },
      "execution_count": 22,
      "outputs": []
    },
    {
      "cell_type": "code",
      "source": [
        "# 다형성 -> 동일한 인터페이스를 사용하여 서로 다른 데이터 타입의 객체를 다룰 수 있는 능력\n",
        "\n",
        "animals = [Dog(\"Buddy\"), Cat(\"Whiskers\")] # list에 instance 2개 저장\n",
        "for animal in animals:\n",
        "    print(f\"{animal.name} says {animal.speak()}\")"
      ],
      "metadata": {
        "colab": {
          "base_uri": "https://localhost:8080/"
        },
        "id": "L96QjmTXseJe",
        "outputId": "d2e045c4-5d14-4a9b-9932-831771850612"
      },
      "execution_count": 25,
      "outputs": [
        {
          "output_type": "stream",
          "name": "stdout",
          "text": [
            "Buddy says Woof!\n",
            "Whiskers says Meow!\n"
          ]
        }
      ]
    },
    {
      "cell_type": "code",
      "source": [
        "# 매직 메서드 (Magic Methods) -> 파이썬이 내부적으로 사용하는 메서드\n",
        "\"\"\"\n",
        "__init__: 객체 초기화 메서드\n",
        "__str__: 객체의 문자열 표현을 반환\n",
        "__repr__: 객체의 공식 문자열 표현을 반환\n",
        "\"\"\"\n",
        "class Book:\n",
        "    def __init__(self, title, author):\n",
        "        self.title = title\n",
        "        self.author = author\n",
        "\n",
        "    def __str__(self):\n",
        "        return f\"{self.title} by {self.author}\"\n",
        "\n",
        "    def __repr__(self):\n",
        "        return f\"Book({self.title}, {self.author})\"\n",
        "\n",
        "my_book = Book(\"1984\", \"George Orwell\")\n",
        "print(str(my_book))\n",
        "print(repr(my_book))"
      ],
      "metadata": {
        "colab": {
          "base_uri": "https://localhost:8080/"
        },
        "id": "rlX_K9eyseGB",
        "outputId": "95852478-237a-4684-ea2d-1a098e6528bd"
      },
      "execution_count": 27,
      "outputs": [
        {
          "output_type": "stream",
          "name": "stdout",
          "text": [
            "1984 by George Orwell\n",
            "Book(1984, George Orwell)\n"
          ]
        }
      ]
    },
    {
      "cell_type": "code",
      "source": [
        "# 연산자 오버로딩 -> 파이썬의 기본 연산자를 사용자 정의 클래스에서 사용할 수 있도록 메서드를 정의\n",
        "\"\"\"\n",
        "__add__: + 연산자\n",
        "__sub__: - 연산자\n",
        "__mul__: * 연산자\n",
        "__truediv__: / 연산자\n",
        "\"\"\"\n",
        "class Vector:\n",
        "    def __init__(self, x, y):\n",
        "        self.x = x\n",
        "        self.y = y\n",
        "\n",
        "    def __add__(self, other):\n",
        "        return Vector(self.x + other.x, self.y + other.y)\n",
        "\n",
        "    def __str__(self):\n",
        "        return f\"Vector({self.x}, {self.y})\"\n",
        "\n",
        "v1 = Vector(2, 3)\n",
        "v2 = Vector(5, 7)\n",
        "v3 = v1 + v2\n",
        "print(v3)"
      ],
      "metadata": {
        "colab": {
          "base_uri": "https://localhost:8080/"
        },
        "id": "pR0hkXsps3kw",
        "outputId": "c6e29106-f9f4-420b-a7ba-9d5d29b65cc3"
      },
      "execution_count": 28,
      "outputs": [
        {
          "output_type": "stream",
          "name": "stdout",
          "text": [
            "Vector(7, 10)\n"
          ]
        }
      ]
    },
    {
      "cell_type": "markdown",
      "source": [
        "제너레이터와 이터레이터"
      ],
      "metadata": {
        "id": "aF63BsaltFU_"
      }
    },
    {
      "cell_type": "code",
      "source": [
        "# 이터레이터 클래스\n",
        "class Counter:\n",
        "    def __init__(self, max):\n",
        "        # 이터레이터의 최대 값 설정\n",
        "        self.max = max\n",
        "        # 현재 값을 0으로 초기화\n",
        "        self.current = 0\n",
        "\n",
        "    def __iter__(self):\n",
        "        # __iter__ 메서드는 이터레이터 객체 자체를 반환해야 함\n",
        "        return self\n",
        "\n",
        "    def __next__(self):\n",
        "        # __next__ 메서드는 다음 값을 반환\n",
        "        if self.current < self.max:\n",
        "            # 현재 값을 1 증가\n",
        "            self.current += 1\n",
        "            # 현재 값을 반환\n",
        "            return self.current\n",
        "        else:\n",
        "            # 현재 값이 최대 값 이상이면 StopIteration 예외 발생\n",
        "            raise StopIteration\n",
        "\n",
        "# Counter 클래스의 인스턴스를 생성\n",
        "counter = Counter(5)\n",
        "\n",
        "# 이터레이터를 사용하여 값을 반복 출력\n",
        "for num in counter:\n",
        "    print(num)\n",
        "\n"
      ],
      "metadata": {
        "colab": {
          "base_uri": "https://localhost:8080/"
        },
        "id": "Uleb3hG6s5Ds",
        "outputId": "5e54fbcb-94e8-4c58-bfca-4b6a591d80eb"
      },
      "execution_count": null,
      "outputs": [
        {
          "output_type": "stream",
          "name": "stdout",
          "text": [
            "1\n",
            "2\n",
            "3\n",
            "4\n",
            "5\n"
          ]
        }
      ]
    },
    {
      "cell_type": "code",
      "source": [
        "# 제너레이터 함수\n",
        "def count_up_to(max):\n",
        "    # 카운트 초기값을 1로 설정\n",
        "    count = 1\n",
        "    # 카운트가 최대 값보다 작거나 같은 동안 반복\n",
        "    while count <= max:\n",
        "        # 현재 카운트 값을 반환하고 함수의 실행 상태를 유지\n",
        "        yield count\n",
        "        # 카운트를 1 증가\n",
        "        count += 1\n",
        "\n",
        "# 제너레이터 객체 생성\n",
        "counter = count_up_to(5)\n",
        "\n",
        "# 제너레이터를 사용하여 값을 반복 출력\n",
        "for num in counter:\n",
        "    print(num)\n",
        "\n"
      ],
      "metadata": {
        "colab": {
          "base_uri": "https://localhost:8080/"
        },
        "id": "mvBnweDAtOpl",
        "outputId": "1c8d05f0-43cc-414f-c4e9-81e77c17295e"
      },
      "execution_count": null,
      "outputs": [
        {
          "output_type": "stream",
          "name": "stdout",
          "text": [
            "1\n",
            "2\n",
            "3\n",
            "4\n",
            "5\n"
          ]
        }
      ]
    },
    {
      "cell_type": "code",
      "source": [
        "# yield 키워드 -> 제너레이터 함수에서 값을 반환하고 함수의 실행 상태를 일시 중지\n",
        "def simple_generator():\n",
        "    yield 1\n",
        "    yield 2\n",
        "    yield 3\n",
        "\n",
        "gen = simple_generator()\n",
        "print(next(gen))\n",
        "print(next(gen))\n",
        "print(next(gen))"
      ],
      "metadata": {
        "colab": {
          "base_uri": "https://localhost:8080/"
        },
        "id": "J8Xed1pQtces",
        "outputId": "307f4c16-0205-47ce-ef02-68565ff99cb4"
      },
      "execution_count": null,
      "outputs": [
        {
          "output_type": "stream",
          "name": "stdout",
          "text": [
            "1\n",
            "2\n",
            "3\n"
          ]
        }
      ]
    },
    {
      "cell_type": "markdown",
      "source": [
        "파일 입출력"
      ],
      "metadata": {
        "id": "81GEHdfatpWn"
      }
    },
    {
      "cell_type": "code",
      "source": [
        "# 파일 쓰기\n",
        "with open('example.txt', 'w') as file:\n",
        "    file.write('Hello, world!')\n",
        "\n",
        "# 파일 읽기\n",
        "with open('example.txt', 'r') as file:\n",
        "    content = file.read()\n",
        "    print(content)"
      ],
      "metadata": {
        "colab": {
          "base_uri": "https://localhost:8080/"
        },
        "id": "IVE4YBYmtq02",
        "outputId": "2c37ce1c-da36-41e5-b463-9c306ef4f137"
      },
      "execution_count": null,
      "outputs": [
        {
          "output_type": "stream",
          "name": "stdout",
          "text": [
            "Hello, world!\n"
          ]
        }
      ]
    },
    {
      "cell_type": "code",
      "source": [
        "# 파일 쓰기\n",
        "with open('example.txt', 'w') as file:\n",
        "    file.write('Hello, world!')\n",
        "\n",
        "# 여러 줄 쓰기\n",
        "lines = ['First line\\n', 'Second line\\n', 'Third line\\n']\n",
        "with open('example.txt', 'w') as file:\n",
        "    file.writelines(lines)"
      ],
      "metadata": {
        "id": "pSxi965mtrNx"
      },
      "execution_count": null,
      "outputs": []
    },
    {
      "cell_type": "code",
      "source": [
        "# 파일 전체 읽기\n",
        "with open('example.txt', 'r') as file:\n",
        "    content = file.read()\n",
        "    print(content)\n",
        "\n",
        "# 파일 한 줄씩 읽기\n",
        "with open('example.txt', 'r') as file:\n",
        "    line = file.readline()\n",
        "    while line:\n",
        "        print(line.strip())\n",
        "        line = file.readline()\n",
        "        print(\"*\")"
      ],
      "metadata": {
        "colab": {
          "base_uri": "https://localhost:8080/"
        },
        "id": "7DHWQhAYtrP1",
        "outputId": "72ef1850-5150-40ca-c84a-e299df434ce4"
      },
      "execution_count": null,
      "outputs": [
        {
          "output_type": "stream",
          "name": "stdout",
          "text": [
            "First line\n",
            "Second line\n",
            "Third line\n",
            "\n",
            "First line\n",
            "*\n",
            "Second line\n",
            "*\n",
            "Third line\n",
            "*\n"
          ]
        }
      ]
    },
    {
      "cell_type": "markdown",
      "source": [
        "예외처리"
      ],
      "metadata": {
        "id": "Tk2FEUDJu5lv"
      }
    },
    {
      "cell_type": "code",
      "source": [
        "try:\n",
        "    result = 10 / 0\n",
        "except ZeroDivisionError as e:\n",
        "    print(\"0으로 나눌 수 없습니다:\", e)"
      ],
      "metadata": {
        "colab": {
          "base_uri": "https://localhost:8080/"
        },
        "id": "aV9gpDGdtrHQ",
        "outputId": "6f7d9775-e107-4211-a476-04a415dc5d0d"
      },
      "execution_count": null,
      "outputs": [
        {
          "output_type": "stream",
          "name": "stdout",
          "text": [
            "0으로 나눌 수 없습니다: division by zero\n"
          ]
        }
      ]
    },
    {
      "cell_type": "code",
      "source": [
        "try:\n",
        "    file = open(\"example_.txt\", \"r\")\n",
        "    content = file.read()\n",
        "except FileNotFoundError as e:\n",
        "    print(\"파일을 찾을 수 없습니다:\", e)\n",
        "finally:\n",
        "    file.close()"
      ],
      "metadata": {
        "colab": {
          "base_uri": "https://localhost:8080/"
        },
        "id": "K6x5A8HHtrCU",
        "outputId": "28c56d95-7ee2-48a6-82be-4f934d7e7088"
      },
      "execution_count": null,
      "outputs": [
        {
          "output_type": "stream",
          "name": "stdout",
          "text": [
            "파일을 찾을 수 없습니다: [Errno 2] No such file or directory: 'example_.txt'\n"
          ]
        }
      ]
    },
    {
      "cell_type": "code",
      "source": [
        "def check_positive(number):\n",
        "    if number < 0:\n",
        "        raise ValueError(\"음수는 허용되지 않습니다.\")\n",
        "\n",
        "try:\n",
        "    check_positive(-5)\n",
        "except ValueError as e:\n",
        "    print(e)"
      ],
      "metadata": {
        "colab": {
          "base_uri": "https://localhost:8080/"
        },
        "id": "C_8JaMDhu9k-",
        "outputId": "76a6125e-4774-4307-d2bf-e04e25816f00"
      },
      "execution_count": null,
      "outputs": [
        {
          "output_type": "stream",
          "name": "stdout",
          "text": [
            "음수는 허용되지 않습니다.\n"
          ]
        }
      ]
    },
    {
      "cell_type": "code",
      "source": [
        "class NegativeNumberError(Exception): # 에러를 만들어서 사용\n",
        "    def __init__(self, message=\"음수는 허용되지 않습니다.\"):\n",
        "        self.message = message\n",
        "        super().__init__(self.message)\n",
        "\n",
        "def check_positive(number):\n",
        "    if number < 0:\n",
        "        raise NegativeNumberError()\n",
        "\n",
        "try:\n",
        "    check_positive(-5)\n",
        "except NegativeNumberError as e:\n",
        "    print(e)"
      ],
      "metadata": {
        "colab": {
          "base_uri": "https://localhost:8080/"
        },
        "id": "ce40JgxIvAmW",
        "outputId": "706e199c-904a-4436-e7a6-d8f136dbdd2d"
      },
      "execution_count": null,
      "outputs": [
        {
          "output_type": "stream",
          "name": "stdout",
          "text": [
            "음수는 허용되지 않습니다.\n"
          ]
        }
      ]
    },
    {
      "cell_type": "markdown",
      "source": [],
      "metadata": {
        "id": "DOXhQ-vWvAS9"
      }
    }
  ]
}