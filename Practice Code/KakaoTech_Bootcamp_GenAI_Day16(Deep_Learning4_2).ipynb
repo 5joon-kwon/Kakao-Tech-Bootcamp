{
  "nbformat": 4,
  "nbformat_minor": 0,
  "metadata": {
    "colab": {
      "provenance": [],
      "gpuType": "T4"
    },
    "kernelspec": {
      "name": "python3",
      "display_name": "Python 3"
    },
    "language_info": {
      "name": "python"
    },
    "accelerator": "GPU"
  },
  "cells": [
    {
      "cell_type": "code",
      "execution_count": null,
      "metadata": {
        "collapsed": true,
        "id": "QmGHGK23fz3O"
      },
      "outputs": [],
      "source": [
        "import torch\n",
        "import torch.nn as nn\n",
        "import torch.optim as optim\n",
        "from torchvision import datasets, transforms\n",
        "import matplotlib.pyplot as plt\n",
        "\n",
        "# 데이터셋 로드 및 전처리\n",
        "transform = transforms.Compose([\n",
        "    transforms.ToTensor(),\n",
        "    transforms.Normalize((0.5,), (0.5,))\n",
        "])\n",
        "\n",
        "train_dataset = datasets.MNIST(root='./data', train=True, download=True, transform=transform)\n",
        "train_loader = torch.utils.data.DataLoader(dataset=train_dataset, batch_size=64, shuffle=True)\n",
        "\n",
        "test_dataset = datasets.MNIST(root='./data', train=False, download=True, transform=transform)\n",
        "test_loader = torch.utils.data.DataLoader(dataset=test_dataset, batch_size=64, shuffle=False)\n"
      ]
    },
    {
      "cell_type": "code",
      "source": [
        "device = torch.device(\"cuda\" if torch.cuda.is_available() else \"cpu\")"
      ],
      "metadata": {
        "id": "Usebkd7xgAdb"
      },
      "execution_count": 2,
      "outputs": []
    },
    {
      "cell_type": "code",
      "source": [
        "class Autoencoder(nn.Module): # nn.Module 상속\n",
        "    def __init__(self):\n",
        "        super(Autoencoder, self).__init__()\n",
        "        # 인코더\n",
        "        self.encoder = nn.Sequential(\n",
        "            nn.Linear(28 * 28, 128),\n",
        "            nn.ReLU(),\n",
        "            nn.Linear(128, 64),\n",
        "            nn.ReLU(),\n",
        "            nn.Linear(64, 32)\n",
        "        )\n",
        "        # 디코더\n",
        "        self.decoder = nn.Sequential(\n",
        "            nn.Linear(32, 64),\n",
        "            nn.ReLU(),\n",
        "            nn.Linear(64, 128),\n",
        "            nn.ReLU(),\n",
        "            nn.Linear(128, 28 * 28),\n",
        "            nn.Tanh() # 원하는거 해도 상관 x\n",
        "        )\n",
        "\n",
        "    def forward(self, x):\n",
        "        x = self.encoder(x)\n",
        "        x = self.decoder(x)\n",
        "        return x\n",
        "\n",
        "# 모델 초기화\n",
        "model = Autoencoder().to(device)\n",
        "criterion = nn.MSELoss()\n",
        "optimizer = optim.Adam(model.parameters(), lr=0.001)"
      ],
      "metadata": {
        "id": "_Pf91_osf4Tf"
      },
      "execution_count": 3,
      "outputs": []
    },
    {
      "cell_type": "code",
      "source": [
        "print(model)"
      ],
      "metadata": {
        "colab": {
          "base_uri": "https://localhost:8080/"
        },
        "id": "YLlFliKUhLo9",
        "outputId": "c3d952b1-25c7-4299-e396-fa66ba23b0d3"
      },
      "execution_count": 4,
      "outputs": [
        {
          "output_type": "stream",
          "name": "stdout",
          "text": [
            "Autoencoder(\n",
            "  (encoder): Sequential(\n",
            "    (0): Linear(in_features=784, out_features=128, bias=True)\n",
            "    (1): ReLU()\n",
            "    (2): Linear(in_features=128, out_features=64, bias=True)\n",
            "    (3): ReLU()\n",
            "    (4): Linear(in_features=64, out_features=32, bias=True)\n",
            "  )\n",
            "  (decoder): Sequential(\n",
            "    (0): Linear(in_features=32, out_features=64, bias=True)\n",
            "    (1): ReLU()\n",
            "    (2): Linear(in_features=64, out_features=128, bias=True)\n",
            "    (3): ReLU()\n",
            "    (4): Linear(in_features=128, out_features=784, bias=True)\n",
            "    (5): Tanh()\n",
            "  )\n",
            ")\n"
          ]
        }
      ]
    },
    {
      "cell_type": "code",
      "source": [
        "num_epochs = 20\n",
        "\n",
        "for epoch in range(num_epochs):\n",
        "    for data, _ in train_loader:\n",
        "        data = data.view(-1, 28 * 28).to(device)\n",
        "\n",
        "        # 순전파\n",
        "        output = model(data)\n",
        "        loss = criterion(output, data)\n",
        "\n",
        "        # 역전파\n",
        "        optimizer.zero_grad()\n",
        "        loss.backward()\n",
        "        optimizer.step()\n",
        "\n",
        "    print(f'Epoch [{epoch+1}/{num_epochs}], Loss: {loss.item():.4f}')"
      ],
      "metadata": {
        "colab": {
          "base_uri": "https://localhost:8080/"
        },
        "id": "0u9N3Q8hf5nE",
        "outputId": "798d86e5-c651-41a0-cdd7-07611f53dc5c"
      },
      "execution_count": 5,
      "outputs": [
        {
          "output_type": "stream",
          "name": "stdout",
          "text": [
            "Epoch [1/20], Loss: 0.1136\n",
            "Epoch [2/20], Loss: 0.0678\n",
            "Epoch [3/20], Loss: 0.0638\n",
            "Epoch [4/20], Loss: 0.0520\n",
            "Epoch [5/20], Loss: 0.0503\n",
            "Epoch [6/20], Loss: 0.0468\n",
            "Epoch [7/20], Loss: 0.0392\n",
            "Epoch [8/20], Loss: 0.0366\n",
            "Epoch [9/20], Loss: 0.0439\n",
            "Epoch [10/20], Loss: 0.0395\n",
            "Epoch [11/20], Loss: 0.0362\n",
            "Epoch [12/20], Loss: 0.0324\n",
            "Epoch [13/20], Loss: 0.0384\n",
            "Epoch [14/20], Loss: 0.0331\n",
            "Epoch [15/20], Loss: 0.0382\n",
            "Epoch [16/20], Loss: 0.0348\n",
            "Epoch [17/20], Loss: 0.0310\n",
            "Epoch [18/20], Loss: 0.0353\n",
            "Epoch [19/20], Loss: 0.0317\n",
            "Epoch [20/20], Loss: 0.0297\n"
          ]
        }
      ]
    },
    {
      "cell_type": "code",
      "source": [
        "# 테스트 데이터셋에서 몇 가지 이미지를 복원하여 시각화\n",
        "model.eval()\n",
        "with torch.no_grad():\n",
        "    for data, _ in test_loader:\n",
        "        data = data.view(-1, 28 * 28).to(device)\n",
        "        output = model(data)\n",
        "        output = output.view(-1, 1, 28, 28).cpu()\n",
        "        break\n",
        "\n",
        "# 원본 이미지와 복원된 이미지 시각화\n",
        "fig, axes = plt.subplots(nrows=2, ncols=10, sharex=True, sharey=True, figsize=(20, 4))\n",
        "\n",
        "for images, row in zip([data.view(-1, 1, 28, 28).cpu(), output], axes):\n",
        "    for img, ax in zip(images, row):\n",
        "        ax.imshow(img.numpy().squeeze(), cmap='gray')\n",
        "        ax.get_xaxis().set_visible(False)\n",
        "        ax.get_yaxis().set_visible(False)\n",
        "\n",
        "plt.show()"
      ],
      "metadata": {
        "colab": {
          "base_uri": "https://localhost:8080/",
          "height": 335
        },
        "id": "ccmjEz2Ff6-t",
        "outputId": "cc216a82-25fb-4c99-e207-d4c4761a4f8d"
      },
      "execution_count": 7,
      "outputs": [
        {
          "output_type": "display_data",
          "data": {
            "text/plain": [
              "<Figure size 2000x400 with 20 Axes>"
            ],
            "image/png": "[encoded data removed]"
          },
          "metadata": {}
        }
      ]
    }
  ]
}
