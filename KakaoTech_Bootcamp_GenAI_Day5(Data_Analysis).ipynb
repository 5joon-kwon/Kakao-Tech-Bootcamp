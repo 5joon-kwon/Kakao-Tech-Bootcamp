{
  "nbformat": 4,
  "nbformat_minor": 0,
  "metadata": {
    "colab": {
      "provenance": []
    },
    "kernelspec": {
      "name": "python3",
      "display_name": "Python 3"
    },
    "language_info": {
      "name": "python"
    }
  },
  "cells": [
    {
      "cell_type": "code",
      "execution_count": 1,
      "metadata": {
        "colab": {
          "base_uri": "https://localhost:8080/"
        },
        "id": "90g1fyoZ-3Xv",
        "outputId": "2a2b49b7-70f9-41f1-92ea-e4694f6309a6"
      },
      "outputs": [
        {
          "output_type": "stream",
          "name": "stdout",
          "text": [
            "Dataset URL: https://www.kaggle.com/datasets/ketangangal/heart-disease-dataset-uci\n",
            "License(s): CC0-1.0\n",
            "Downloading heart-disease-dataset-uci.zip to /content\n",
            "  0% 0.00/9.24k [00:00<?, ?B/s]\n",
            "100% 9.24k/9.24k [00:00<00:00, 12.8MB/s]\n"
          ]
        }
      ],
      "source": [
        "! kaggle datasets download -d ketangangal/heart-disease-dataset-uci"
      ]
    },
    {
      "cell_type": "code",
      "source": [
        "! unzip /content/heart-disease-dataset-uci.zip"
      ],
      "metadata": {
        "colab": {
          "base_uri": "https://localhost:8080/"
        },
        "id": "j1q6S6Pr_jVE",
        "outputId": "67d83bf1-4ea0-432c-adb8-313d72ff9f66"
      },
      "execution_count": 2,
      "outputs": [
        {
          "output_type": "stream",
          "name": "stdout",
          "text": [
            "Archive:  /content/heart-disease-dataset-uci.zip\n",
            "  inflating: HeartDiseaseTrain-Test.csv  \n"
          ]
        }
      ]
    },
    {
      "cell_type": "markdown",
      "source": [
        "About this file\n",
        "Age\n",
        "Sex : male : 1\n",
        "female : 0\n",
        "\n",
        "chest pain type\n",
        "-- Value 1: typical angina\n",
        "-- Value 2: atypical angina\n",
        "-- Value 3: non-anginal pain\n",
        "-- Value 4: asymptomatic\n",
        "\n",
        "resting blood pressure (in mm Hg on admission to the hospital\n",
        "\n",
        "serum cholestoral in mg/dl\n",
        "\n",
        "(fasting blood sugar > 120 mg/dl) (1 = true; 0 = false)\n",
        "\n",
        "resting electrocardiographic results\n",
        "\n",
        "-- Value 0: normal\n",
        "-- Value 1: having ST-T wave abnormality (T wave inversions and/or ST elevation or depression of > 0.05 mV)\n",
        "-- Value 2: showing probable or definite left ventricular hypertrophy by Estes' criteria\n",
        "\n",
        "thalach: maximum heart rate achieved\n",
        "\n",
        "exercise induced angina (1 = yes; 0 = no)\n",
        "\n",
        "Angina is chest pain or discomfort caused when your heart muscle doesn't get enough oxygen-rich blood.\n",
        "It may feel like pressure or squeezing in your chest.\n",
        "\n",
        "oldpeak = ST depression induced by exercise relative to rest\n",
        "\n",
        "slope: the slope of the peak exercise ST segment\n",
        "\n",
        "--Value 1: upsloping\n",
        "-- Value 2: flat\n",
        "-- Value 3: downsloping\n",
        "\n",
        "vessels colored by flourosopy : number of major vessels (0-3) colored by flourosopy\n",
        "\n",
        "A blood disorder called thalassemia (3 = normal; 6 = fixed defect; 7 = reversable defect)\n",
        "\n",
        "Target : 0 No Heart disease\n",
        "1 Heart disease"
      ],
      "metadata": {
        "id": "JcgGXq9gAKmG"
      }
    },
    {
      "cell_type": "code",
      "source": [
        "import pandas as pd\n",
        "\n",
        "# 데이터셋 로드\n",
        "data = pd.read_csv('/content/HeartDiseaseTrain-Test.csv')\n",
        "\n",
        "# 데이터의 처음 몇 줄을 출력하여 구조 확인\n",
        "print(\"#\"*80)\n",
        "print(\"데이터의 처음 몇 줄을 출력하여 구조 확인\")\n",
        "print(data.head())\n",
        "\n",
        "# 데이터의 각 컬럼에 대한 정보 확인\n",
        "print(\"\\n\")\n",
        "print(\"#\"*80)\n",
        "print(\"데이터의 각 컬럼에 대한 정보 확인\")\n",
        "print(data.info()) # 결측치, data_type 확인"
      ],
      "metadata": {
        "colab": {
          "base_uri": "https://localhost:8080/"
        },
        "id": "w2bcMg_QBDgc",
        "outputId": "b186505a-a658-4da3-f766-6fb4f3d136d2"
      },
      "execution_count": 9,
      "outputs": [
        {
          "output_type": "stream",
          "name": "stdout",
          "text": [
            "################################################################################\n",
            "데이터의 처음 몇 줄을 출력하여 구조 확인\n",
            "   age     sex chest_pain_type  resting_blood_pressure  cholestoral  \\\n",
            "0   52    Male  Typical angina                     125          212   \n",
            "1   53    Male  Typical angina                     140          203   \n",
            "2   70    Male  Typical angina                     145          174   \n",
            "3   61    Male  Typical angina                     148          203   \n",
            "4   62  Female  Typical angina                     138          294   \n",
            "\n",
            "      fasting_blood_sugar               rest_ecg  Max_heart_rate  \\\n",
            "0    Lower than 120 mg/ml  ST-T wave abnormality             168   \n",
            "1  Greater than 120 mg/ml                 Normal             155   \n",
            "2    Lower than 120 mg/ml  ST-T wave abnormality             125   \n",
            "3    Lower than 120 mg/ml  ST-T wave abnormality             161   \n",
            "4  Greater than 120 mg/ml  ST-T wave abnormality             106   \n",
            "\n",
            "  exercise_induced_angina  oldpeak        slope vessels_colored_by_flourosopy  \\\n",
            "0                      No      1.0  Downsloping                           Two   \n",
            "1                     Yes      3.1    Upsloping                          Zero   \n",
            "2                     Yes      2.6    Upsloping                          Zero   \n",
            "3                      No      0.0  Downsloping                           One   \n",
            "4                      No      1.9         Flat                         Three   \n",
            "\n",
            "         thalassemia  target  \n",
            "0  Reversable Defect       0  \n",
            "1  Reversable Defect       0  \n",
            "2  Reversable Defect       0  \n",
            "3  Reversable Defect       0  \n",
            "4       Fixed Defect       0  \n",
            "\n",
            "\n",
            "################################################################################\n",
            "데이터의 각 컬럼에 대한 정보 확인\n",
            "<class 'pandas.core.frame.DataFrame'>\n",
            "RangeIndex: 1025 entries, 0 to 1024\n",
            "Data columns (total 14 columns):\n",
            " #   Column                         Non-Null Count  Dtype  \n",
            "---  ------                         --------------  -----  \n",
            " 0   age                            1025 non-null   int64  \n",
            " 1   sex                            1025 non-null   object \n",
            " 2   chest_pain_type                1025 non-null   object \n",
            " 3   resting_blood_pressure         1025 non-null   int64  \n",
            " 4   cholestoral                    1025 non-null   int64  \n",
            " 5   fasting_blood_sugar            1025 non-null   object \n",
            " 6   rest_ecg                       1025 non-null   object \n",
            " 7   Max_heart_rate                 1025 non-null   int64  \n",
            " 8   exercise_induced_angina        1025 non-null   object \n",
            " 9   oldpeak                        1025 non-null   float64\n",
            " 10  slope                          1025 non-null   object \n",
            " 11  vessels_colored_by_flourosopy  1025 non-null   object \n",
            " 12  thalassemia                    1025 non-null   object \n",
            " 13  target                         1025 non-null   int64  \n",
            "dtypes: float64(1), int64(5), object(8)\n",
            "memory usage: 112.2+ KB\n",
            "None\n"
          ]
        }
      ]
    },
    {
      "cell_type": "code",
      "source": [
        "# 데이터 타입 확인\n",
        "print(\"#\"*80)\n",
        "print(\"데이터 타입 확인\")\n",
        "print(\"Data Types:\\n\", data.dtypes)\n",
        "\n",
        "# 범주형 및 수치형 데이터 분리하여 분석\n",
        "categorical_cols = data.select_dtypes(include=['object', 'category']).columns\n",
        "numerical_cols = data.select_dtypes(include=['int64', 'float64']).columns\n",
        "\n",
        "print(\"#\"*80)\n",
        "print(\"범주형 데이터 분리하여 분석\")\n",
        "print(\"\\nCategorical Columns:\\n\", categorical_cols)\n",
        "\n",
        "print(\"#\"*80)\n",
        "print(\"수치형 데이터 분리하여 분석\")\n",
        "print(\"\\nNumerical Columns:\\n\", numerical_cols)"
      ],
      "metadata": {
        "colab": {
          "base_uri": "https://localhost:8080/"
        },
        "id": "VeKvjTau_jjt",
        "outputId": "060409bd-8b84-45a5-a6ad-3ea914e67d31"
      },
      "execution_count": 11,
      "outputs": [
        {
          "output_type": "stream",
          "name": "stdout",
          "text": [
            "################################################################################\n",
            "데이터 타입 확인\n",
            "Data Types:\n",
            " age                                int64\n",
            "sex                               object\n",
            "chest_pain_type                   object\n",
            "resting_blood_pressure             int64\n",
            "cholestoral                        int64\n",
            "fasting_blood_sugar               object\n",
            "rest_ecg                          object\n",
            "Max_heart_rate                     int64\n",
            "exercise_induced_angina           object\n",
            "oldpeak                          float64\n",
            "slope                             object\n",
            "vessels_colored_by_flourosopy     object\n",
            "thalassemia                       object\n",
            "target                             int64\n",
            "dtype: object\n",
            "################################################################################\n",
            "범주형 데이터 분리하여 분석\n",
            "\n",
            "Categorical Columns:\n",
            " Index(['sex', 'chest_pain_type', 'fasting_blood_sugar', 'rest_ecg',\n",
            "       'exercise_induced_angina', 'slope', 'vessels_colored_by_flourosopy',\n",
            "       'thalassemia'],\n",
            "      dtype='object')\n",
            "################################################################################\n",
            "수치형 데이터 분리하여 분석\n",
            "\n",
            "Numerical Columns:\n",
            " Index(['age', 'resting_blood_pressure', 'cholestoral', 'Max_heart_rate',\n",
            "       'oldpeak', 'target'],\n",
            "      dtype='object')\n"
          ]
        }
      ]
    },
    {
      "cell_type": "code",
      "source": [
        "# 결측치 확인\n",
        "print(\"\\nMissing Values:\\n\", data.isnull().sum())\n",
        "\n",
        "# 각 범주형 변수의 유니크한 값과 빈도수\n",
        "for col in categorical_cols:\n",
        "    print(f\"\\nUnique values in {col}:\\n\", data[col].value_counts())\n",
        "\n",
        "# 수치형 데이터의 기초 통계\n",
        "print(\"\\nDescriptive Statistics for Numerical Data:\\n\", data[numerical_cols].describe())\n"
      ],
      "metadata": {
        "colab": {
          "base_uri": "https://localhost:8080/"
        },
        "id": "TVR-29Ah_6yx",
        "outputId": "e578e214-84c3-4e88-ccce-0b31341700e5"
      },
      "execution_count": 12,
      "outputs": [
        {
          "output_type": "stream",
          "name": "stdout",
          "text": [
            "\n",
            "Missing Values:\n",
            " age                              0\n",
            "sex                              0\n",
            "chest_pain_type                  0\n",
            "resting_blood_pressure           0\n",
            "cholestoral                      0\n",
            "fasting_blood_sugar              0\n",
            "rest_ecg                         0\n",
            "Max_heart_rate                   0\n",
            "exercise_induced_angina          0\n",
            "oldpeak                          0\n",
            "slope                            0\n",
            "vessels_colored_by_flourosopy    0\n",
            "thalassemia                      0\n",
            "target                           0\n",
            "dtype: int64\n",
            "\n",
            "Unique values in sex:\n",
            " sex\n",
            "Male      713\n",
            "Female    312\n",
            "Name: count, dtype: int64\n",
            "\n",
            "Unique values in chest_pain_type:\n",
            " chest_pain_type\n",
            "Typical angina      497\n",
            "Non-anginal pain    284\n",
            "Atypical angina     167\n",
            "Asymptomatic         77\n",
            "Name: count, dtype: int64\n",
            "\n",
            "Unique values in fasting_blood_sugar:\n",
            " fasting_blood_sugar\n",
            "Lower than 120 mg/ml      872\n",
            "Greater than 120 mg/ml    153\n",
            "Name: count, dtype: int64\n",
            "\n",
            "Unique values in rest_ecg:\n",
            " rest_ecg\n",
            "ST-T wave abnormality           513\n",
            "Normal                          497\n",
            "Left ventricular hypertrophy     15\n",
            "Name: count, dtype: int64\n",
            "\n",
            "Unique values in exercise_induced_angina:\n",
            " exercise_induced_angina\n",
            "No     680\n",
            "Yes    345\n",
            "Name: count, dtype: int64\n",
            "\n",
            "Unique values in slope:\n",
            " slope\n",
            "Flat           482\n",
            "Downsloping    469\n",
            "Upsloping       74\n",
            "Name: count, dtype: int64\n",
            "\n",
            "Unique values in vessels_colored_by_flourosopy:\n",
            " vessels_colored_by_flourosopy\n",
            "Zero     578\n",
            "One      226\n",
            "Two      134\n",
            "Three     69\n",
            "Four      18\n",
            "Name: count, dtype: int64\n",
            "\n",
            "Unique values in thalassemia:\n",
            " thalassemia\n",
            "Fixed Defect         544\n",
            "Reversable Defect    410\n",
            "Normal                64\n",
            "No                     7\n",
            "Name: count, dtype: int64\n",
            "\n",
            "Descriptive Statistics for Numerical Data:\n",
            "                age  resting_blood_pressure  cholestoral  Max_heart_rate  \\\n",
            "count  1025.000000             1025.000000   1025.00000     1025.000000   \n",
            "mean     54.434146              131.611707    246.00000      149.114146   \n",
            "std       9.072290               17.516718     51.59251       23.005724   \n",
            "min      29.000000               94.000000    126.00000       71.000000   \n",
            "25%      48.000000              120.000000    211.00000      132.000000   \n",
            "50%      56.000000              130.000000    240.00000      152.000000   \n",
            "75%      61.000000              140.000000    275.00000      166.000000   \n",
            "max      77.000000              200.000000    564.00000      202.000000   \n",
            "\n",
            "           oldpeak       target  \n",
            "count  1025.000000  1025.000000  \n",
            "mean      1.071512     0.513171  \n",
            "std       1.175053     0.500070  \n",
            "min       0.000000     0.000000  \n",
            "25%       0.000000     0.000000  \n",
            "50%       0.800000     1.000000  \n",
            "75%       1.800000     1.000000  \n",
            "max       6.200000     1.000000  \n"
          ]
        }
      ]
    },
    {
      "cell_type": "code",
      "source": [
        "# 왜도와 첨도 확인\n",
        "\"\"\"\n",
        "왜도(Skewness): 0에 가까울수록 정규분포에 근사, 양의 값은 오른쪽 꼬리가 긴 분포(왼쪽으로 치우친), 음의 값은 왼쪽 꼬리가 긴 분포(오른쪽으로 치우친)\n",
        "첨도(Kurtosis): 0에 가까울수록 정규분포에 근사, 높으면 분포가 뾰족하고, 낮으면 평평\n",
        "\"\"\"\n",
        "\n",
        "print(\"\\nSkewness of the data:\\n\", data[numerical_cols].skew())\n",
        "print(\"\\nKurtosis of the data:\\n\", data[numerical_cols].kurt())"
      ],
      "metadata": {
        "colab": {
          "base_uri": "https://localhost:8080/"
        },
        "id": "PnPCQRXS_8mU",
        "outputId": "78d562a3-0ec7-4d15-d718-6c8da5bcfa33"
      },
      "execution_count": 13,
      "outputs": [
        {
          "output_type": "stream",
          "name": "stdout",
          "text": [
            "\n",
            "Skewness of the data:\n",
            " age                      -0.248866\n",
            "resting_blood_pressure    0.739768\n",
            "cholestoral               1.074073\n",
            "Max_heart_rate           -0.513777\n",
            "oldpeak                   1.210899\n",
            "target                   -0.052778\n",
            "dtype: float64\n",
            "\n",
            "Kurtosis of the data:\n",
            " age                      -0.525618\n",
            "resting_blood_pressure    0.991221\n",
            "cholestoral               3.996803\n",
            "Max_heart_rate           -0.088822\n",
            "oldpeak                   1.314471\n",
            "target                   -2.001123\n",
            "dtype: float64\n"
          ]
        }
      ]
    },
    {
      "cell_type": "code",
      "source": [
        "\"\"\"\n",
        "상관계수 값이 1에 가까울수록 완벽한 양의 상관관계(a와 b가 비례), -1에 가까울수록 완벽한 음의 상관관계(a와 b가 반비례)를 나타냅니다.\n",
        "\"\"\"\n",
        "\n",
        "# 피어슨 상관 계수\n",
        "print(\"Pearson Correlation:\\n\", data[numerical_cols].corr(method='pearson'))\n",
        "\n",
        "# 스피어만 상관 계수\n",
        "print(\"\\nSpearman Correlation:\\n\", data[numerical_cols].corr(method='spearman'))"
      ],
      "metadata": {
        "colab": {
          "base_uri": "https://localhost:8080/"
        },
        "id": "7md1epNq__mW",
        "outputId": "8cde2813-c82c-4c35-bc85-f50ec17dcc97"
      },
      "execution_count": 15,
      "outputs": [
        {
          "output_type": "stream",
          "name": "stdout",
          "text": [
            "Pearson Correlation:\n",
            "                              age  resting_blood_pressure  cholestoral  \\\n",
            "age                     1.000000                0.271121     0.219823   \n",
            "resting_blood_pressure  0.271121                1.000000     0.127977   \n",
            "cholestoral             0.219823                0.127977     1.000000   \n",
            "Max_heart_rate         -0.390227               -0.039264    -0.021772   \n",
            "oldpeak                 0.208137                0.187434     0.064880   \n",
            "target                 -0.229324               -0.138772    -0.099966   \n",
            "\n",
            "                        Max_heart_rate   oldpeak    target  \n",
            "age                          -0.390227  0.208137 -0.229324  \n",
            "resting_blood_pressure       -0.039264  0.187434 -0.138772  \n",
            "cholestoral                  -0.021772  0.064880 -0.099966  \n",
            "Max_heart_rate                1.000000 -0.349796  0.422895  \n",
            "oldpeak                      -0.349796  1.000000 -0.438441  \n",
            "target                        0.422895 -0.438441  1.000000  \n",
            "\n",
            "Spearman Correlation:\n",
            "                              age  resting_blood_pressure  cholestoral  \\\n",
            "age                     1.000000                0.280189     0.203253   \n",
            "resting_blood_pressure  0.280189                1.000000     0.127010   \n",
            "cholestoral             0.203253                0.127010     1.000000   \n",
            "Max_heart_rate         -0.382724               -0.028880    -0.054794   \n",
            "oldpeak                 0.264500                0.146722     0.057102   \n",
            "target                 -0.240326               -0.115009    -0.132926   \n",
            "\n",
            "                        Max_heart_rate   oldpeak    target  \n",
            "age                          -0.382724  0.264500 -0.240326  \n",
            "resting_blood_pressure       -0.028880  0.146722 -0.115009  \n",
            "cholestoral                  -0.054794  0.057102 -0.132926  \n",
            "Max_heart_rate                1.000000 -0.439987  0.429832  \n",
            "oldpeak                      -0.439987  1.000000 -0.437669  \n",
            "target                        0.429832 -0.437669  1.000000  \n"
          ]
        }
      ]
    },
    {
      "cell_type": "code",
      "source": [
        "from scipy import stats\n",
        "\n",
        "\"\"\"\n",
        "T-통계량의 절대값이 크면 클수록 두 그룹 간의 차이가 크다고 할 수 있습니다.\n",
        "\n",
        "일반적으로 P-값이 0.05보다 작으면 귀무 가설을 기각하고, 통계적으로 유의미한 차이가 있음을 인정합니다\n",
        "\"\"\"\n",
        "\n",
        "# 남성과 여성 그룹 데이터 분할\n",
        "male_max_hr = data[data['sex'] == 'Male']['Max_heart_rate']\n",
        "female_max_hr = data[data['sex'] == 'Female']['Max_heart_rate']\n",
        "print(male_max_hr)\n",
        "print(female_max_hr)\n",
        "# 두 그룹 간의 평균 최대 심박수 차이 검정\n",
        "t_stat, p_val = stats.ttest_ind(male_max_hr, female_max_hr)\n",
        "print(f\"T-statistic: {t_stat}, P-value: {p_val}\")\n"
      ],
      "metadata": {
        "colab": {
          "base_uri": "https://localhost:8080/"
        },
        "id": "-TO0kWd-C47B",
        "outputId": "f67b4013-d276-4426-b196-da965568771c"
      },
      "execution_count": 18,
      "outputs": [
        {
          "output_type": "stream",
          "name": "stdout",
          "text": [
            "0       168\n",
            "1       155\n",
            "2       125\n",
            "3       161\n",
            "6       140\n",
            "       ... \n",
            "1019    143\n",
            "1020    164\n",
            "1021    141\n",
            "1022    118\n",
            "1024    113\n",
            "Name: Max_heart_rate, Length: 713, dtype: int64\n",
            "4       106\n",
            "5       122\n",
            "10      125\n",
            "11      136\n",
            "12      192\n",
            "       ... \n",
            "996     150\n",
            "1004    142\n",
            "1005    130\n",
            "1014    175\n",
            "1023    159\n",
            "Name: Max_heart_rate, Length: 312, dtype: int64\n",
            "T-statistic: -1.5808436320867354, P-value: 0.1142229084355055\n"
          ]
        }
      ]
    }
  ]
}